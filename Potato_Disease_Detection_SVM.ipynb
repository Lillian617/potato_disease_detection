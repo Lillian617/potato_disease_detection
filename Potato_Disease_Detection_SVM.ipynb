{
 "cells": [
  {
   "cell_type": "code",
   "execution_count": null,
   "id": "20405ff0-b7df-4fb4-b77a-2d7df4ea9d53",
   "metadata": {},
   "outputs": [],
   "source": [
    "import os\n",
    "import cv2\n",
    "import pickle\n",
    "import numpy as np\n",
    "from tqdm import tqdm\n",
    "from sklearn.svm import LinearSVC\n",
    "from sklearn import svm, datasets\n",
    "from sklearn import preprocessing\n",
    "from sklearn.decomposition import PCA\n",
    "from sklearn.metrics import accuracy_score\n",
    "from sklearn.model_selection import train_test_split\n",
    "\n",
    "import numpy as np\n",
    "import matplotlib.pyplot as plt"
   ]
  },
  {
   "cell_type": "markdown",
   "id": "5e8d34f4-13fc-46e4-86fa-20942dd3be75",
   "metadata": {},
   "source": [
    "### 從資料夾讀取圖片，轉換 train 跟 test 資料，轉成 NumPy 數，並且標準化資料"
   ]
  },
  {
   "cell_type": "code",
   "execution_count": null,
   "id": "b682bfbe-e26d-4a1b-b2e3-dc7ae6916187",
   "metadata": {},
   "outputs": [],
   "source": [
    "path = r'C:\\Users\\amysa\\anaconda3\\envs\\cv\\00\\Machine Learning\\Potato_Disease_Detection\\potato_disease_Dataset\\train'\n",
    "data,label = [],[]\n",
    "for root, dirs, files in os.walk(path):\n",
    "    key = os.path.basename(root)\n",
    "    for file in files:\n",
    "        full_file_path = os.path.join(root,file)\n",
    "        img = cv2.imread(full_file_path)\n",
    "        img = cv2.resize(img,(256,256))\n",
    "        img = cv2.cvtColor(img,cv2.COLOR_BGR2RGB)\n",
    "        data.append(img)\n",
    "        label.append(key)\n",
    "\n",
    "x_train = np.array(data)\n",
    "y_train = np.array(label)"
   ]
  },
  {
   "cell_type": "code",
   "execution_count": null,
   "id": "bb3ffe07-5801-45ba-899a-4471d22d1e0d",
   "metadata": {
    "scrolled": true
   },
   "outputs": [],
   "source": [
    "path = r'C:\\Users\\amysa\\anaconda3\\envs\\cv\\00\\Machine Learning\\Potato_Disease_Detection\\potato_disease_Dataset\\test'\n",
    "data,label = [],[]\n",
    "for root, dirs, files in os.walk(path):\n",
    "    key = os.path.basename(root)\n",
    "    for file in files:\n",
    "        full_file_path = os.path.join(root,file)\n",
    "        img = cv2.imread(full_file_path)\n",
    "        img = cv2.resize(img,(256,256))\n",
    "        img = cv2.cvtColor(img,cv2.COLOR_BGR2RGB)\n",
    "        data.append(img)\n",
    "        label.append(key)\n",
    "\n",
    "x_test = np.array(data)\n",
    "y_test = np.array(label)\n",
    "print(x_test)"
   ]
  },
  {
   "cell_type": "code",
   "execution_count": null,
   "id": "44698903-7a16-4eda-9191-190a063fbe1e",
   "metadata": {},
   "outputs": [],
   "source": [
    "# Normalize Data\n",
    "x_train = x_train / 255.0\n",
    "x_test = x_test / 255.0"
   ]
  },
  {
   "cell_type": "markdown",
   "id": "2ac44aec-c86e-4e34-8ce4-c5df2fb50289",
   "metadata": {},
   "source": [
    "#### 將圖的數據展平並 encode labels"
   ]
  },
  {
   "cell_type": "code",
   "execution_count": null,
   "id": "9ff4daf2-75b7-4505-9c48-f9c6a404cbfc",
   "metadata": {},
   "outputs": [],
   "source": [
    "x_train = np.array(x_train).reshape(len(x_train),-1)\n",
    "x_test = np.array(x_test).reshape(len(x_test),-1)\n",
    "\n",
    "# 檢查展平後的形狀\n",
    "print('Shape of x_train:', x_train.shape)\n",
    "print('Shape of x_test:', x_test.shape)\n",
    "\n",
    "#Encode labels from string to int\n",
    "le = preprocessing.LabelEncoder()\n",
    "labelEnc_train = le.fit_transform(y_train)\n",
    "labelEnc_test = le.fit_transform(y_test)\n",
    "labelEnc_train.shape"
   ]
  },
  {
   "cell_type": "code",
   "execution_count": null,
   "id": "451d56e6-4fcb-4d04-a4c2-b3ddd502d219",
   "metadata": {},
   "outputs": [],
   "source": [
    "# 使用 PCA 降維\n",
    "pca = PCA(n_components=100) \n",
    "x_train = pca.fit_transform(x_train)\n",
    "x_test = pca.transform(x_test)"
   ]
  },
  {
   "cell_type": "markdown",
   "id": "778f45c8-2fb8-411f-bf74-fc90fd67d13d",
   "metadata": {},
   "source": [
    "### SVM model"
   ]
  },
  {
   "cell_type": "code",
   "execution_count": null,
   "id": "da7047dd-814c-4ce0-bdd0-2924d95c60c2",
   "metadata": {},
   "outputs": [],
   "source": [
    "model = LinearSVC(C=1.5)\n",
    "\n",
    "# 使用展平後的訓練數據進行訓練，並使用 tqdm 來顯示訓練進度\n",
    "with tqdm(total=len(x_train)) as pbar:\n",
    "    model.fit(x_train, labelEnc_train)\n",
    "    pbar.update(len(x_train))\n",
    "    \n",
    "# 使用展平後的測試數據進行預測，並使用 tqdm 來顯示預測進度\n",
    "with tqdm(total=len(x_test)) as pbar:\n",
    "    x_pred =model.predict(x_test)\n",
    "    pbar.update(len(x_test))\n",
    "    \n",
    "# 計算並輸出準確率\n",
    "accuracy = accuracy_score(labelEnc_test,x_pred)*100\n",
    "print(\"Accuracy: \", accuracy)"
   ]
  },
  {
   "cell_type": "code",
   "execution_count": null,
   "id": "b40ff9d4-cc2e-4924-b4a8-d0c4508c9054",
   "metadata": {},
   "outputs": [],
   "source": []
  }
 ],
 "metadata": {
  "kernelspec": {
   "display_name": "cv_python3",
   "language": "python",
   "name": "cv_python3"
  },
  "language_info": {
   "codemirror_mode": {
    "name": "ipython",
    "version": 3
   },
   "file_extension": ".py",
   "mimetype": "text/x-python",
   "name": "python",
   "nbconvert_exporter": "python",
   "pygments_lexer": "ipython3",
   "version": "3.12.2"
  },
  "widgets": {
   "application/vnd.jupyter.widget-state+json": {
    "state": {},
    "version_major": 2,
    "version_minor": 0
   }
  }
 },
 "nbformat": 4,
 "nbformat_minor": 5
}
